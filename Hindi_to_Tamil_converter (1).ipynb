{
  "nbformat": 4,
  "nbformat_minor": 0,
  "metadata": {
    "colab": {
      "name": "Hindi_to_Tamil_converter.ipynb",
      "provenance": [],
      "collapsed_sections": []
    },
    "kernelspec": {
      "name": "python3",
      "display_name": "Python 3"
    },
    "language_info": {
      "name": "python"
    }
  },
  "cells": [
    {
      "cell_type": "code",
      "source": [
        "!pip install playsound\n"
      ],
      "metadata": {
        "colab": {
          "base_uri": "https://localhost:8080/"
        },
        "id": "Zg5uWKot7hNG",
        "outputId": "cd19eca3-2aac-4941-c2ec-b1e7f9b81277"
      },
      "execution_count": 1,
      "outputs": [
        {
          "output_type": "stream",
          "name": "stdout",
          "text": [
            "Looking in indexes: https://pypi.org/simple, https://us-python.pkg.dev/colab-wheels/public/simple/\n",
            "Requirement already satisfied: playsound in /usr/local/lib/python3.7/dist-packages (1.3.0)\n"
          ]
        }
      ]
    },
    {
      "cell_type": "code",
      "source": [
        "!pip install googletrans==3.1.0a0"
      ],
      "metadata": {
        "colab": {
          "base_uri": "https://localhost:8080/"
        },
        "id": "FNPZUkbz7oBM",
        "outputId": "fcc87561-0e49-46d1-a92f-7ce91e7b9140"
      },
      "execution_count": 2,
      "outputs": [
        {
          "output_type": "stream",
          "name": "stdout",
          "text": [
            "Looking in indexes: https://pypi.org/simple, https://us-python.pkg.dev/colab-wheels/public/simple/\n",
            "Requirement already satisfied: googletrans in /usr/local/lib/python3.7/dist-packages (3.0.0)\n",
            "Requirement already satisfied: httpx==0.13.3 in /usr/local/lib/python3.7/dist-packages (from googletrans) (0.13.3)\n",
            "Requirement already satisfied: chardet==3.* in /usr/local/lib/python3.7/dist-packages (from httpx==0.13.3->googletrans) (3.0.4)\n",
            "Requirement already satisfied: idna==2.* in /usr/local/lib/python3.7/dist-packages (from httpx==0.13.3->googletrans) (2.10)\n",
            "Requirement already satisfied: rfc3986<2,>=1.3 in /usr/local/lib/python3.7/dist-packages (from httpx==0.13.3->googletrans) (1.5.0)\n",
            "Requirement already satisfied: sniffio in /usr/local/lib/python3.7/dist-packages (from httpx==0.13.3->googletrans) (1.2.0)\n",
            "Requirement already satisfied: httpcore==0.9.* in /usr/local/lib/python3.7/dist-packages (from httpx==0.13.3->googletrans) (0.9.1)\n",
            "Requirement already satisfied: hstspreload in /usr/local/lib/python3.7/dist-packages (from httpx==0.13.3->googletrans) (2021.12.1)\n",
            "Requirement already satisfied: certifi in /usr/local/lib/python3.7/dist-packages (from httpx==0.13.3->googletrans) (2022.6.15)\n",
            "Requirement already satisfied: h11<0.10,>=0.8 in /usr/local/lib/python3.7/dist-packages (from httpcore==0.9.*->httpx==0.13.3->googletrans) (0.9.0)\n",
            "Requirement already satisfied: h2==3.* in /usr/local/lib/python3.7/dist-packages (from httpcore==0.9.*->httpx==0.13.3->googletrans) (3.2.0)\n",
            "Requirement already satisfied: hpack<4,>=3.0 in /usr/local/lib/python3.7/dist-packages (from h2==3.*->httpcore==0.9.*->httpx==0.13.3->googletrans) (3.0.0)\n",
            "Requirement already satisfied: hyperframe<6,>=5.2.0 in /usr/local/lib/python3.7/dist-packages (from h2==3.*->httpcore==0.9.*->httpx==0.13.3->googletrans) (5.2.0)\n"
          ]
        }
      ]
    },
    {
      "cell_type": "code",
      "source": [
        "!apt install speech_recognition "
      ],
      "metadata": {
        "colab": {
          "base_uri": "https://localhost:8080/"
        },
        "id": "ep2I820v741Y",
        "outputId": "8654bc4d-a72c-48e7-d333-3b3bde1a4172"
      },
      "execution_count": 2,
      "outputs": [
        {
          "output_type": "stream",
          "name": "stdout",
          "text": [
            "Reading package lists... Done\n",
            "Building dependency tree       \n",
            "Reading state information... Done\n",
            "E: Unable to locate package speech_recognition\n"
          ]
        }
      ]
    },
    {
      "cell_type": "code",
      "source": [
        "!pip install gtts"
      ],
      "metadata": {
        "colab": {
          "base_uri": "https://localhost:8080/"
        },
        "id": "VMWdDII08cry",
        "outputId": "74260e7c-0ba0-4075-ae7d-69e3759ebd98"
      },
      "execution_count": 3,
      "outputs": [
        {
          "output_type": "stream",
          "name": "stdout",
          "text": [
            "Looking in indexes: https://pypi.org/simple, https://us-python.pkg.dev/colab-wheels/public/simple/\n",
            "Requirement already satisfied: gtts in /usr/local/lib/python3.7/dist-packages (2.2.4)\n",
            "Requirement already satisfied: six in /usr/local/lib/python3.7/dist-packages (from gtts) (1.15.0)\n",
            "Requirement already satisfied: requests in /usr/local/lib/python3.7/dist-packages (from gtts) (2.23.0)\n",
            "Requirement already satisfied: click in /usr/local/lib/python3.7/dist-packages (from gtts) (7.1.2)\n",
            "Requirement already satisfied: chardet<4,>=3.0.2 in /usr/local/lib/python3.7/dist-packages (from requests->gtts) (3.0.4)\n",
            "Requirement already satisfied: urllib3!=1.25.0,!=1.25.1,<1.26,>=1.21.1 in /usr/local/lib/python3.7/dist-packages (from requests->gtts) (1.24.3)\n",
            "Requirement already satisfied: certifi>=2017.4.17 in /usr/local/lib/python3.7/dist-packages (from requests->gtts) (2022.6.15)\n",
            "Requirement already satisfied: idna<3,>=2.5 in /usr/local/lib/python3.7/dist-packages (from requests->gtts) (2.10)\n"
          ]
        }
      ]
    },
    {
      "cell_type": "code",
      "source": [
        "!pip install SpeechRecognition"
      ],
      "metadata": {
        "colab": {
          "base_uri": "https://localhost:8080/"
        },
        "id": "l3pl8kqE8pxE",
        "outputId": "4cf45fcd-b234-4399-b581-e699312aab78"
      },
      "execution_count": 4,
      "outputs": [
        {
          "output_type": "stream",
          "name": "stdout",
          "text": [
            "Looking in indexes: https://pypi.org/simple, https://us-python.pkg.dev/colab-wheels/public/simple/\n",
            "Requirement already satisfied: SpeechRecognition in /usr/local/lib/python3.7/dist-packages (3.8.1)\n"
          ]
        }
      ]
    },
    {
      "cell_type": "code",
      "source": [
        "from playsound import playsound\n",
        "import speech_recognition as sr \n",
        "from gtts import gTTS \n",
        "import os"
      ],
      "metadata": {
        "colab": {
          "base_uri": "https://localhost:8080/"
        },
        "id": "dYBghzKI8wVx",
        "outputId": "e5ee8f48-aaab-479a-80cc-4315bfcbc73b"
      },
      "execution_count": 5,
      "outputs": [
        {
          "output_type": "stream",
          "name": "stderr",
          "text": [
            "playsound is relying on another python subprocess. Please use `pip install pygobject` if you want playsound to run more efficiently.\n"
          ]
        }
      ]
    },
    {
      "cell_type": "code",
      "source": [
        "dic=('afrikaans', 'af', 'albanian', 'sq', 'amharic', 'am', \n",
        "     'arabic', 'ar', 'armenian', 'hy', 'azerbaijani', 'az',\n",
        " 'basque', 'eu', 'belarusian', 'be', 'bengali', 'bn', 'bosnian',\n",
        "     'bs', 'bulgarian', 'bg', 'catalan', 'ca',\n",
        "  'cebuano', 'ceb', 'chichewa', 'ny', 'chinese (simplified)',\n",
        "     'zh-cn', 'chinese (traditional)', 'zh-tw',\n",
        "  'corsican', 'co', 'croatian', 'hr', 'czech', 'cs', 'danish',\n",
        "     'da', 'dutch', 'nl', 'english', 'en', 'esperanto',\n",
        "  'eo', 'estonian', 'et', 'filipino', 'tl', 'finnish', 'fi', \n",
        "     'french', 'fr', 'frisian', 'fy', 'galician', 'gl',\n",
        "  'georgian', 'ka', 'german', 'de', 'greek', 'el', 'gujarati', \n",
        "     'gu', 'haitian creole', 'ht', 'hausa', 'ha', \n",
        "  'hawaiian', 'haw', 'hebrew', 'he', 'hindi', 'hi', 'hmong', \n",
        "     'hmn', 'hungarian', 'hu', 'icelandic', 'is', 'igbo',\n",
        "  'ig', 'indonesian', 'id', 'irish', 'ga', 'italian', 'it', \n",
        "     'japanese', 'ja', 'javanese', 'jw', 'kannada', 'kn',\n",
        "  'kazakh', 'kk', 'khmer', 'km', 'korean', 'ko', 'kurdish (kurmanji)',\n",
        "     'ku', 'kyrgyz', 'ky', 'lao', 'lo', \n",
        "  'latin', 'la', 'latvian', 'lv', 'lithuanian', 'lt', 'luxembourgish',\n",
        "     'lb', 'macedonian', 'mk', 'malagasy',\n",
        "  'mg', 'malay', 'ms', 'malayalam', 'ml', 'maltese', 'mt', 'maori',\n",
        "     'mi', 'marathi', 'mr', 'mongolian', 'mn',\n",
        "  'myanmar (burmese)', 'my', 'nepali', 'ne', 'norwegian', 'no',\n",
        "     'odia', 'or', 'pashto', 'ps', 'persian',\n",
        "   'fa', 'polish', 'pl', 'portuguese', 'pt', 'punjabi', 'pa',\n",
        "     'romanian', 'ro', 'russian', 'ru', 'samoan',\n",
        "   'sm', 'scots gaelic', 'gd', 'serbian', 'sr', 'sesotho', \n",
        "     'st', 'shona', 'sn', 'sindhi', 'sd', 'sinhala',\n",
        "   'si', 'slovak', 'sk', 'slovenian', 'sl', 'somali', 'so', \n",
        "     'spanish', 'es', 'sundanese', 'su', \n",
        "  'swahili', 'sw', 'swedish', 'sv', 'tajik', 'tg', 'tamil',\n",
        "     'ta', 'telugu', 'te', 'thai', 'th', 'turkish', 'tr',\n",
        "  'ukrainian', 'uk', 'urdu', 'ur', 'uyghur', 'ug', 'uzbek', \n",
        "     'uz', 'vietnamese', 'vi', 'welsh', 'cy', 'xhosa', 'xh',\n",
        "  'yiddish', 'yi', 'yoruba', 'yo', 'zulu', 'zu')"
      ],
      "metadata": {
        "id": "sgyMyp8E81hS"
      },
      "execution_count": 6,
      "outputs": []
    },
    {
      "cell_type": "code",
      "source": [
        "!pip install pydub\n"
      ],
      "metadata": {
        "colab": {
          "base_uri": "https://localhost:8080/"
        },
        "id": "gF73dPAd87zA",
        "outputId": "24c8d258-4825-4098-b9a4-bdf3a3d12127"
      },
      "execution_count": 7,
      "outputs": [
        {
          "output_type": "stream",
          "name": "stdout",
          "text": [
            "Looking in indexes: https://pypi.org/simple, https://us-python.pkg.dev/colab-wheels/public/simple/\n",
            "Requirement already satisfied: pydub in /usr/local/lib/python3.7/dist-packages (0.25.1)\n"
          ]
        }
      ]
    },
    {
      "cell_type": "code",
      "source": [
        "import speech_recognition as sr\n",
        "from pydub import AudioSegment\n",
        "\n",
        "# convert mp3 file to wav  \n",
        "src=(r\"/content/sample_data/modi.mp3\")\n",
        "sound = AudioSegment.from_mp3(src)\n",
        "sound.export(\"/content/sample_data/modi.wav\", format=\"wav\")\n",
        "\n",
        "file_audio = sr.AudioFile(r\"/content/sample_data/modi.wav\")\n",
        "\n",
        "# use the audio file as the audio source                                        \n",
        "r = sr.Recognizer()\n",
        "with file_audio as source:\n",
        "   audio_text = r.record(source)\n",
        "\n",
        "print(type(audio_text))\n",
        "final_audio_text = r.recognize_google(audio_text,language = 'hi-IN')\n",
        "\n",
        "\n"
      ],
      "metadata": {
        "colab": {
          "base_uri": "https://localhost:8080/"
        },
        "id": "axoPJJ7bAl51",
        "outputId": "30c12e23-6a3b-4a1e-90e5-28b4cb9c31a1"
      },
      "execution_count": 8,
      "outputs": [
        {
          "output_type": "stream",
          "name": "stdout",
          "text": [
            "<class 'speech_recognition.AudioData'>\n"
          ]
        }
      ]
    },
    {
      "cell_type": "code",
      "source": [
        "print(final_audio_text)"
      ],
      "metadata": {
        "id": "GeaAr4UGERGS",
        "colab": {
          "base_uri": "https://localhost:8080/"
        },
        "outputId": "1f9d7e4f-82a4-4c5f-9069-0f4d63938e2f"
      },
      "execution_count": 9,
      "outputs": [
        {
          "output_type": "stream",
          "name": "stdout",
          "text": [
            "भाइयों बहनों हमारे लिए विकास का अर्थ सिर्फ चमक-दमक नहीं है हमारे लिए विकास का अर्थ है गरीब दलित पिछड़े आदिवासी माताएं बहने इन सब का सशक्तिकरण पीएम आवास योजना के तहत वाराणसी के 600 से अधिक गरीब परिवारों को अपना पक्का धर्म मिला है या ने 600 नए लखपति बन गए जिन साथियों के घर का सपना पूरा हुआ है उनको बहुत-बहुत बधाई एवं परिवार की माताओं बहनों को विशेष बधाई क्योंकि हमारी कोशिश रहती है कि घर बने हो मां बहनों के नाम पर होना चाहिए और इसलिए उनको विशेष बधाई हर गणेश परिवार को पक्का कर लेना और हर ग्रामीण परिवार को पाइप के पानी से जोड़ना इन संकल्प पर हम तेजी से काम कर रहे हैं जल जीवन मिशन के तहत दर्जनों पानी की परियोजनाओं पर काम शुरू हो चुका है इन से हजारों परिवारों को विशेष रुप से बहनों को इसने बहुत सुविधा होगी निराश्रित माताओं बहनों बेटियों के लिए बनी है गुरु से भी सबका विकास की भावना शतक से होगी\n"
          ]
        }
      ]
    },
    {
      "cell_type": "code",
      "source": [
        "from googletrans import Translator "
      ],
      "metadata": {
        "id": "AsdSNAK4QA3w"
      },
      "execution_count": 10,
      "outputs": []
    },
    {
      "cell_type": "code",
      "source": [
        "translator = Translator()"
      ],
      "metadata": {
        "id": "9nCx2Z37MT5e"
      },
      "execution_count": 11,
      "outputs": []
    },
    {
      "cell_type": "markdown",
      "source": [
        "**this is for english**"
      ],
      "metadata": {
        "id": "2elWX_4lSCpN"
      }
    },
    {
      "cell_type": "code",
      "source": [
        "result = translator.translate(final_audio_text, dest='en')"
      ],
      "metadata": {
        "id": "M72w-1h9Odq-"
      },
      "execution_count": 13,
      "outputs": []
    },
    {
      "cell_type": "code",
      "source": [
        "print(result.text)"
      ],
      "metadata": {
        "colab": {
          "base_uri": "https://localhost:8080/"
        },
        "id": "QN1HCIVxQMN1",
        "outputId": "89e6b369-22f4-4ecd-d77d-a2fd93e5a977"
      },
      "execution_count": 15,
      "outputs": [
        {
          "output_type": "stream",
          "name": "stdout",
          "text": [
            "Brothers & Sisters, development for us is not just brilliance; development for us means empowerment of poor Dalit backward tribal mothers sisters; Under PM Awas Yojana, more than 600 poor families of Varanasi have got their true religion or have received 600 Many congratulations to the companions who have become the new millionaires, whose dreams have been fulfilled, and special congratulations to the mothers and sisters of the family because we try that the house should be built in the name of the mother and sisters and therefore special congratulations to every Ganesh family. We are working fast on these resolutions to make sure and connect every rural family with piped water, work has started on dozens of water projects under the Jal Jeevan Mission. There will be a lot of convenience, it is made for destitute mothers, sisters and daughters, even from the guru, everyone will have a sense of development by a century.\n"
          ]
        }
      ]
    },
    {
      "cell_type": "code",
      "source": [
        "language = 'en'\n",
        "myfinalobj = gTTS(text=result.text, lang=language, slow=False)\n",
        "myfinalobj.save(\"/content/sample_data/translated_modi.mp3\")"
      ],
      "metadata": {
        "id": "YlibNaXvQhLQ"
      },
      "execution_count": 17,
      "outputs": []
    },
    {
      "cell_type": "markdown",
      "source": [
        "**TAMIL LANGUAGE**"
      ],
      "metadata": {
        "id": "hRVKj8m2V7-x"
      }
    },
    {
      "cell_type": "code",
      "source": [
        "result_tamil = translator.translate(final_audio_text, dest='ta')"
      ],
      "metadata": {
        "id": "-w-BEeFLSPBx"
      },
      "execution_count": 18,
      "outputs": []
    },
    {
      "cell_type": "code",
      "source": [
        "print(result_tamil.text)"
      ],
      "metadata": {
        "colab": {
          "base_uri": "https://localhost:8080/"
        },
        "id": "m0a1695aSfZD",
        "outputId": "e0f818c0-d989-4617-e7a3-5cac114d5ddf"
      },
      "execution_count": 19,
      "outputs": [
        {
          "output_type": "stream",
          "name": "stdout",
          "text": [
            "சகோதர சகோதரிகளே, எங்களுக்கு வளர்ச்சி என்பது வெறும் புத்திசாலித்தனம் அல்ல; நமக்கான வளர்ச்சி என்பது ஏழை தலித் பிற்படுத்தப்பட்ட பழங்குடியின தாய் சகோதரிகளுக்கு அதிகாரம் அளிப்பதாகும்; பிரதமர் ஆவாஸ் யோஜனா திட்டத்தின் கீழ், வாரணாசியின் 600க்கும் மேற்பட்ட ஏழைக் குடும்பங்கள் தங்கள் உண்மையான மதத்தைப் பெற்றுள்ளனர் அல்லது 600 பேருக்கு பல வாழ்த்துகளைப் பெற்றுள்ளனர். புதிய கோடீஸ்வரர்களாக மாறிய தோழர்கள், அவர்களின் கனவுகள் நனவாகும், மேலும் குடும்பத்தின் தாய் மற்றும் சகோதரிகளுக்கு சிறப்பு வாழ்த்துக்கள், ஏனென்றால் வீடு அம்மா மற்றும் சகோதரிகளின் பெயரில் கட்டப்பட வேண்டும் என்று நாங்கள் முயற்சி செய்கிறோம் எனவே ஒவ்வொரு கணேஷ் குடும்பத்திற்கும் சிறப்பு வாழ்த்துக்கள் ஒவ்வொரு கிராமப்புற குடும்பத்தையும் குழாய் நீருடன் இணைக்க இந்த தீர்மானங்களை விரைவாக செயல்படுத்தி வருகிறோம், ஜல் ஜீவன் மிஷனின் கீழ் டஜன் கணக்கான நீர் திட்டங்களின் பணிகள் தொடங்கப்பட்டுள்ளன. வசதிகள் நிறைய இருக்கும், இது ஆதரவற்ற தாய்மார்கள், சகோதரிகளுக்காக உருவாக்கப்பட்டது. மற்றும் மகள்கள், குரு இருந்து கூட, அனைவருக்கும் ஒரு நூற்றாண்டு வளர்ச்சி உணர்வு இருக்கும்.\n"
          ]
        }
      ]
    },
    {
      "cell_type": "code",
      "source": [
        "language_tamil = 'ta'\n",
        "myfinalobjtamil = gTTS(text=result_tamil.text, lang=language_tamil, slow=False)\n",
        "myfinalobjtamil.save(\"/content/sample_data/translated_modi_tamil.mp3\")"
      ],
      "metadata": {
        "id": "_xwOvsBwSo6A"
      },
      "execution_count": 20,
      "outputs": []
    }
  ]
}